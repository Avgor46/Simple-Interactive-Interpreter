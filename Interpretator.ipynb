{
  "nbformat": 4,
  "nbformat_minor": 0,
  "metadata": {
    "colab": {
      "provenance": []
    },
    "kernelspec": {
      "name": "python3",
      "display_name": "Python 3"
    },
    "language_info": {
      "name": "python"
    }
  },
  "cells": [
    {
      "cell_type": "code",
      "execution_count": 1,
      "metadata": {
        "id": "Z6Dv9i9r8k35"
      },
      "outputs": [],
      "source": [
        "import re, copy"
      ]
    },
    {
      "cell_type": "code",
      "source": [
        "class TokenType:\n",
        "\n",
        "  def __init__(self, t_type: str, regex: str):\n",
        "    self.t_type = t_type\n",
        "    self.regex = regex\n",
        "\n",
        "class Token:\n",
        "    def __init__(self):\n",
        "       pass\n",
        "\n",
        "    def __init__(self, t_type: TokenType, text: str, pos: int):\n",
        "      self.t_type = t_type\n",
        "      self.text = text\n",
        "      self.pos = pos\n",
        "\n",
        "    def __str__(self):\n",
        "      return f'Tt: {self.t_type.t_type} Pos: {self.pos} Text: {self.text}'\n",
        "\n",
        "    def IsMatch(self, *types):\n",
        "        return self.t_type.t_type in types"
      ],
      "metadata": {
        "id": "wTZG1kWU9DMO"
      },
      "execution_count": 2,
      "outputs": []
    },
    {
      "cell_type": "code",
      "source": [
        "tokenTypeList = [\n",
        "    TokenType('FUNC', 'fn'),\n",
        "    TokenType('RET', '=>'),\n",
        "    TokenType('IDENT', '[a-zA-Z_][a-zA-Z0-9_]*'),\n",
        "    TokenType('ASSIGN', '='),\n",
        "    TokenType('REAL', '[0-9]+\\.[0-9]+'),\n",
        "    TokenType('INT', '[0-9]+'),\n",
        "    TokenType('ADD', '\\+'),\n",
        "    TokenType('SUB', '-'),\n",
        "    TokenType('MUL', '\\*'),\n",
        "    TokenType('DIV', '/'),\n",
        "    TokenType('MOD', '%'),\n",
        "    TokenType('LPAR', '\\('),\n",
        "    TokenType('RPAR', '\\)'),\n",
        "    TokenType('SPACE', '[ \\\\n\\\\t\\\\r]+'),\n",
        "]\n",
        "EndToken = Token(TokenType('END', '^[^.]$'), 'END', -1)"
      ],
      "metadata": {
        "id": "Qsv3-pev9hbz"
      },
      "execution_count": 3,
      "outputs": []
    },
    {
      "cell_type": "code",
      "source": [
        "class Lexer:\n",
        "\n",
        "  def __init__(self, code: str):\n",
        "    self.code = code\n",
        "    self.tokens = []\n",
        "    self.pos = 0\n",
        "\n",
        "  def run(self):\n",
        "    while(self.nextToken()):\n",
        "      pass\n",
        "    return self\n",
        "\n",
        "  def display(self):\n",
        "    return list(map(str, filter(lambda x: x.t_type.t_type != 'SPACE', self.tokens)))\n",
        "\n",
        "  def spaced_display(self):\n",
        "    return list(map(str, self.tokens))\n",
        "  \n",
        "  def filtered(self):\n",
        "    return list(filter(lambda x: x.t_type.t_type != 'SPACE', self.tokens))\n",
        "\n",
        "  def nextToken(self) -> bool:\n",
        "    if self.pos >= len(self.code):\n",
        "      return False\n",
        "    for t_type in tokenTypeList:\n",
        "      regexp = re.compile(t_type.regex)\n",
        "      captures = regexp.match(self.code[self.pos:])\n",
        "      if captures != None:\n",
        "        self.tokens.append(Token(t_type, captures.group(0), self.pos))\n",
        "        self.pos += len(captures.group(0))\n",
        "        return True\n",
        "    raise Exception(f'Error occured on position {self.pos}. Text: ...{self.code[self.pos: self.pos + 10]}...')\n",
        "\n"
      ],
      "metadata": {
        "id": "voKdZqQtGMAf"
      },
      "execution_count": 4,
      "outputs": []
    },
    {
      "cell_type": "code",
      "source": [
        "Lexer('x_1 = (2 / (2 + 3.33) * 4) - -6').run().display()"
      ],
      "metadata": {
        "colab": {
          "base_uri": "https://localhost:8080/"
        },
        "id": "YTj6td7_L5CB",
        "outputId": "32b9a265-d5d1-4bb7-fbd4-510c693f88b1"
      },
      "execution_count": 5,
      "outputs": [
        {
          "output_type": "execute_result",
          "data": {
            "text/plain": [
              "['Tt: IDENT Pos: 0 Text: x_1',\n",
              " 'Tt: ASSIGN Pos: 4 Text: =',\n",
              " 'Tt: LPAR Pos: 6 Text: (',\n",
              " 'Tt: INT Pos: 7 Text: 2',\n",
              " 'Tt: DIV Pos: 9 Text: /',\n",
              " 'Tt: LPAR Pos: 11 Text: (',\n",
              " 'Tt: INT Pos: 12 Text: 2',\n",
              " 'Tt: ADD Pos: 14 Text: +',\n",
              " 'Tt: REAL Pos: 16 Text: 3.33',\n",
              " 'Tt: RPAR Pos: 20 Text: )',\n",
              " 'Tt: MUL Pos: 22 Text: *',\n",
              " 'Tt: INT Pos: 24 Text: 4',\n",
              " 'Tt: RPAR Pos: 25 Text: )',\n",
              " 'Tt: SUB Pos: 27 Text: -',\n",
              " 'Tt: SUB Pos: 29 Text: -',\n",
              " 'Tt: INT Pos: 30 Text: 6']"
            ]
          },
          "metadata": {},
          "execution_count": 5
        }
      ]
    },
    {
      "cell_type": "code",
      "source": [
        "class AstNode:\n",
        "\n",
        "  def __init__(self, token: Token = None, Child1 = None, Child2 = None):\n",
        "    self.token = token\n",
        "    self.childs = []\n",
        "    if Child1 != None:\n",
        "      self.childs.append(Child1)\n",
        "    if Child2 != None:\n",
        "      self.childs.append(Child2)\n",
        "  def display(self, indent = 0):\n",
        "    print('   ' * indent, str(self.token))\n",
        "    for child in self.childs:\n",
        "      child.display(indent + 1)\n",
        "\n",
        "class AstFuncNode(AstNode):\n",
        "\n",
        "  def __init__(self, token: Token = None, Child1 = None, name: Token = None, params = None):\n",
        "    super().__init__(token, Child1)\n",
        "    self.fname = name\n",
        "    self.params = params\n",
        "    self.param_names = [p.token.text for p in self.params]\n",
        "\n",
        "  def get_name(self):\n",
        "    return self.fname.text\n",
        "  \n",
        "  def display(self, indent = 0):\n",
        "    print('   ' * indent, f'Func: {self.fname.text}')\n",
        "    print('     ' * indent,'Params: ')\n",
        "    for node in self.params:\n",
        "      node.display(indent + 1)\n",
        "    print('     ' * indent,'Body: ')\n",
        "    super().display(indent + 1)\n"
      ],
      "metadata": {
        "id": "22c1F4mDMDjj"
      },
      "execution_count": 6,
      "outputs": []
    },
    {
      "cell_type": "code",
      "source": [
        "# func -> \"fn\" fn-name IDENT* \"=>\" result\n",
        "# fn-name -> IDENT\n",
        "\n",
        "# func-call -> IDENT result* ### (certain number of times) ###\n",
        "\n",
        "# NUMBER -> <num>\n",
        "# IDENT -> <ident>\n",
        "# assign -> IDENT \"=\" result\n",
        "# group -> \"(\" result \")\" | NUMBER | IDENT | func-call\n",
        "# exp -> -group | group\n",
        "# mult -> exp ( ( \"*\" | \"/\" | \"%\" ) exp )*\n",
        "# add -> mult ( ( \"+\" | \"-\" ) mult )*\n",
        "# result -> add | assign\n",
        "# state -> result | func"
      ],
      "metadata": {
        "id": "CChRhRHhmmy6"
      },
      "execution_count": 7,
      "outputs": []
    },
    {
      "cell_type": "code",
      "source": [
        "class Parser:\n",
        "\n",
        "  def __init__(self, code: str, existed_func = None):\n",
        "    self.tokens = Lexer(code).run().filtered()\n",
        "    self.end = len(self.tokens)\n",
        "    self.pos = 0\n",
        "    self.funcs = []\n",
        "    self.fnames = []\n",
        "    if existed_func  != None:\n",
        "      self.funcs = existed_func\n",
        "      self.fnames = list(map(AstFuncNode.get_name, self.funcs))\n",
        "  \n",
        "  def nextToken(self) -> Token:\n",
        "    if self.pos == self.end:\n",
        "      return EndToken\n",
        "    self.pos += 1 # maybe not a good decision\n",
        "    return self.tokens[self.pos - 1]\n",
        "\n",
        "  def curToken(self) -> Token:\n",
        "    if self.pos == self.end:\n",
        "      return EndToken\n",
        "    return self.tokens[self.pos]\n",
        "  \n",
        "  def prevToken(self) -> Token:\n",
        "    if self.pos - 1 >= self.end:\n",
        "      return EndToken\n",
        "    return self.tokens[self.pos - 1]\n",
        "\n",
        "  # IDENT -> <ident>\n",
        "  def Ident(self) -> AstNode:\n",
        "    ident = self.nextToken()\n",
        "    if not ident.IsMatch('IDENT'):\n",
        "      raise Exception(f'Not an identifier: {ident.text}')\n",
        "    else:\n",
        "      return AstNode(token = ident)\n",
        "\n",
        "  # NUMBER -> <num>\n",
        "  def Number(self) -> AstNode:\n",
        "    number = self.nextToken()\n",
        "    if not number.IsMatch('REAL', 'INT'):\n",
        "      raise Exception(f'Not a number: {number.text}')\n",
        "    else:\n",
        "      return AstNode(token = number)\n",
        "\n",
        "  # func-call -> IDENT result* ### (certain number of times) ###\n",
        "  def Func_call(self) -> AstFuncNode:\n",
        "    ident = self.nextToken().text\n",
        "    func_node = copy.deepcopy(self.funcs[self.fnames.index(ident)])\n",
        "    params = [self.Result() for i in range(len(func_node.params))]\n",
        "    func_node.params = params\n",
        "    return func_node\n",
        "\n",
        "  #group -> \"(\" result \")\" | NUMBER | IDENT | func-call \n",
        "  def Group(self) -> AstNode:\n",
        "    if self.curToken().IsMatch('LPAR'):\n",
        "      lpar = self.nextToken()\n",
        "      result = self.Result()\n",
        "      rpar = self.nextToken()\n",
        "      if rpar.IsMatch('RPAR'):\n",
        "        return result\n",
        "      else:\n",
        "        raise Exception(f'No RPAR found. Tokens: {list(map(str,self.tokens[self.pos - 2:self.pos + 1]))}')\n",
        "    elif self.curToken().IsMatch('IDENT'):\n",
        "      if self.curToken().text in self.fnames:\n",
        "        return self.Func_call()\n",
        "      return self.Ident()\n",
        "    else:\n",
        "      return self.Number()\n",
        "\n",
        "  # exp -> \"-\"group | group\n",
        "  def Exp(self) -> AstNode:\n",
        "    if self.curToken().IsMatch('SUB'):\n",
        "      cur_pos = self.nextToken().pos\n",
        "      if cur_pos == self.curToken().pos - 1:\n",
        "        return AstNode(token = self.prevToken(), Child1 = self.Group())\n",
        "      else:\n",
        "        raise Exception(f'Bad unar operation: {list(map(str, self.tokens[self.pos - 1:self.pos + 1]))}')\n",
        "    else:\n",
        "      return self.Group()\n",
        "\n",
        "  # mult -> exp ( ( \"*\" | \"/\" | \"%\" ) exp )*\n",
        "  def Mult(self) -> AstNode:\n",
        "    result = self.Exp()\n",
        "    while self.curToken().IsMatch('MUL', 'DIV', 'MOD'):\n",
        "      result = AstNode(token = self.nextToken(), Child1 = result, Child2 = self.Exp())\n",
        "    return result\n",
        "\n",
        "  # add -> mult ( ( \"+\" | \"-\" ) mult )*\n",
        "  def Add(self) -> AstNode:\n",
        "    result = self.Mult()\n",
        "    while self.curToken().IsMatch('ADD', 'SUB'):\n",
        "      result = AstNode(token = self.nextToken(), Child1 = result, Child2 = self.Mult())\n",
        "    return result\n",
        "\n",
        "  # assign -> IDENT \"=\" result\n",
        "  def Assign(self) -> AstNode:\n",
        "    ident = self.Ident()\n",
        "    assign = self.nextToken()\n",
        "    if not assign.IsMatch('ASSIGN'):\n",
        "      raise Exception('Bad assignment')\n",
        "    value = self.Result()\n",
        "    return AstNode(token = assign, Child1 = ident, Child2 = value)\n",
        "\n",
        "  # func -> \"fn\" fn-name IDENT* \"=>\" result\n",
        "  def Func(self) -> AstFuncNode:\n",
        "    fn_token = self.nextToken()\n",
        "    fn_name = self.Func_name().token\n",
        "    params = []\n",
        "    while self.pos != self.end and not self.curToken().IsMatch('RET'):\n",
        "      params.append(self.Ident())\n",
        "    if not self.nextToken().IsMatch('RET'):\n",
        "      raise Exception(f'Empty function body, func: {fn_name}')\n",
        "    fn_body = self.Result()\n",
        "    res = AstFuncNode(token = fn_token, name = fn_name, params = params, Child1 = fn_body)\n",
        "    if len(res.param_names) != len(set(res.param_names)):\n",
        "      raise Exception('Function\\'s declaration includes duplicate variable names!')\n",
        "    return res\n",
        "  \n",
        "  # fn-name -> IDENT\n",
        "  def Func_name(self) -> AstNode:\n",
        "    return self.Ident()\n",
        "\n",
        "  # result -> add | assign\n",
        "  def Result(self) -> AstNode:\n",
        "      if len(self.tokens[self.pos:]) > 1 and self.tokens[self.pos + 1].IsMatch('ASSIGN'):\n",
        "        return self.Assign()\n",
        "      else:\n",
        "        return self.Add()\n",
        "  \n",
        "  # state -> result | func\n",
        "  def State(self) -> AstNode:\n",
        "    if self.curToken().IsMatch('FUNC'):\n",
        "      return self.Func()\n",
        "    else:\n",
        "      return self.Result()\n",
        "    \n",
        "  def parse(self) -> AstNode:\n",
        "    result = self.State()\n",
        "    if self.pos != self.end:\n",
        "      raise Exception(f'All tokens must be used. Unused part: {list(map(str, self.tokens[self.pos:]))}')\n",
        "    else:\n",
        "      return result\n"
      ],
      "metadata": {
        "id": "tV3-dzpLecSh"
      },
      "execution_count": 8,
      "outputs": []
    },
    {
      "cell_type": "code",
      "source": [
        "func = Parser('fn avg x y => (x + y) / 2').parse()\n",
        "ast = Parser('1 + avg avg 4 2 3', [func]).parse()\n",
        "func.display()"
      ],
      "metadata": {
        "id": "sCc09TxGujVs",
        "colab": {
          "base_uri": "https://localhost:8080/"
        },
        "outputId": "b25293a5-690f-44b9-cb3d-a421e911e201"
      },
      "execution_count": 9,
      "outputs": [
        {
          "output_type": "stream",
          "name": "stdout",
          "text": [
            " Func: avg\n",
            " Params: \n",
            "    Tt: IDENT Pos: 7 Text: x\n",
            "    Tt: IDENT Pos: 9 Text: y\n",
            " Body: \n",
            "    Tt: FUNC Pos: 0 Text: fn\n",
            "       Tt: DIV Pos: 22 Text: /\n",
            "          Tt: ADD Pos: 17 Text: +\n",
            "             Tt: IDENT Pos: 15 Text: x\n",
            "             Tt: IDENT Pos: 19 Text: y\n",
            "          Tt: INT Pos: 24 Text: 2\n"
          ]
        }
      ]
    },
    {
      "cell_type": "code",
      "source": [
        "class Evaluate:\n",
        "  def __init__(self, root: AstNode, var_dict = None, funcs = None):\n",
        "    self.root = root\n",
        "    if var_dict == None:\n",
        "      var_dict = dict()\n",
        "    if funcs == None:\n",
        "      funcs = dict() \n",
        "    self.vars = var_dict\n",
        "    self.funcs = funcs\n",
        "\n",
        "  def eval(self, node: AstNode = None) -> float:\n",
        "    if node == None:\n",
        "      node = self.root\n",
        "    t_type = node.token.t_type.t_type\n",
        "    if t_type == 'ADD':\n",
        "        return self.eval(node.childs[0]) + self.eval(node.childs[1])\n",
        "    elif t_type == 'ASSIGN':\n",
        "        if node.childs[0].token.IsMatch('IDENT'):\n",
        "          self.vars[node.childs[0].token.text] = self.eval(node.childs[1])\n",
        "          return self.vars[node.childs[0].token.text]\n",
        "        else:\n",
        "          raise Exception(f'ERROR: Invalid assignment. \\\"{node.childs[0].token.text}\\\" is not a variable.')\n",
        "    elif t_type == 'SUB':\n",
        "        if len(node.childs) == 1:\n",
        "          return -self.eval(node.childs[0])\n",
        "        else:\n",
        "          return self.eval(node.childs[0]) - self.eval(node.childs[1])\n",
        "    elif t_type == 'MUL':\n",
        "        return self.eval(node.childs[0]) * self.eval(node.childs[1])\n",
        "    elif t_type == 'DIV':\n",
        "        return self.eval(node.childs[0]) / self.eval(node.childs[1])\n",
        "    elif t_type == 'MOD':\n",
        "        return self.eval(node.childs[0]) % self.eval(node.childs[1])\n",
        "    elif t_type == 'INT':\n",
        "        return int(node.token.text)\n",
        "    elif t_type == 'REAL':\n",
        "        return float(node.token.text)\n",
        "    elif t_type == 'IDENT':\n",
        "        if node.token.text in self.vars:\n",
        "          return float(self.vars[node.token.text])\n",
        "        else:\n",
        "          raise Exception(f'ERROR: Invalid identifier. No variable with name \\\"{node.token.text}\\\" was found.')\n",
        "    elif t_type == 'FUNC':\n",
        "        var_dict = dict()\n",
        "        for i in range(len(node.params)):\n",
        "            var_dict[node.param_names[i]] = self.eval(node.params[i])\n",
        "        res = Evaluate(node.childs[0], var_dict, self.funcs).eval()\n",
        "        return res\n",
        "    else:\n",
        "        raise Exception(f'UNIMPLEMENTED: {node.token.t_type.t_type}')"
      ],
      "metadata": {
        "id": "4GusyGa5vRDq"
      },
      "execution_count": 10,
      "outputs": []
    },
    {
      "cell_type": "code",
      "source": [
        "ev = Evaluate(ast, {}, [func])\n",
        "ev.eval(), ev.vars"
      ],
      "metadata": {
        "colab": {
          "base_uri": "https://localhost:8080/"
        },
        "id": "dNeHLMNupJ3Z",
        "outputId": "5f965c02-914e-4b9d-8912-cda691236ae8"
      },
      "execution_count": 11,
      "outputs": [
        {
          "output_type": "execute_result",
          "data": {
            "text/plain": [
              "(4.0, {})"
            ]
          },
          "metadata": {},
          "execution_count": 11
        }
      ]
    },
    {
      "cell_type": "code",
      "source": [
        "class Interpreter:\n",
        "    def __init__(self):\n",
        "        self.vars = {}\n",
        "        self.functions = {}\n",
        "\n",
        "    def check_undefined(self, node: AstFuncNode, func_list):\n",
        "      var_dict = dict()\n",
        "      for val in node.param_names:\n",
        "        var_dict[val] = 0\n",
        "      Evaluate(node.childs[0], var_dict, func_list).eval()\n",
        "      pass\n",
        "\n",
        "    def input(self, expression):\n",
        "        parser = Parser(expression, list(self.functions.values()))\n",
        "        if len(parser.tokens) == 0:\n",
        "            return \"\"\n",
        "        ast = parser.parse()\n",
        "        if expression.startswith('fn'):\n",
        "          # hack: Calling a function to determine undefined variables.\n",
        "          self.check_undefined(ast, list(self.functions.values()))\n",
        "          \n",
        "          inter = set(self.vars) & set(self.functions | {ast.fname.text: ast})\n",
        "          if inter:\n",
        "            raise Exception(f'Defined twice: {inter}')\n",
        "          self.functions[ast.fname.text] = ast\n",
        "          return \"\"\n",
        "\n",
        "        previous_state = self.vars.copy()\n",
        "        res = Evaluate(ast, self.vars, list(self.functions.values())).eval()\n",
        "\n",
        "        inter = set(self.vars) & set(self.functions)\n",
        "        if inter:\n",
        "          self.vars = previous_state\n",
        "          raise Exception(f'Defined twice: {inter}')\n",
        "        \n",
        "        return res"
      ],
      "metadata": {
        "id": "wY6qqTtaXb8O"
      },
      "execution_count": 12,
      "outputs": []
    },
    {
      "cell_type": "code",
      "source": [
        "interpreter = Interpreter();\n",
        "\n",
        "# Basic arithmetic\n",
        "interpreter.input(\"1 + 1\")#, 2)\n",
        "interpreter.input(\"2 - 1\")#, 1)\n",
        "interpreter.input(\"2 * 3\")#, 6)\n",
        "interpreter.input(\"8 / 4\")#, 2)\n",
        "interpreter.input(\"7 % 4\")#, 3)\n",
        "\n",
        "# Variables\n",
        "interpreter.input(\"x = 1\")#, 1)\n",
        "interpreter.input(\"x\")#, 1)\n",
        "interpreter.input(\"x + 3\")#, 4)\n",
        "try:\n",
        "  interpreter.input(\"y\")\n",
        "except Exception:\n",
        "  print(Exception)\n",
        "\n",
        "interpreter.input('fn avg x y => (x + y) / 2')\n",
        "interpreter.input('fn avg x y => x + y')\n",
        "interpreter.input('avg 4 2')\n"
      ],
      "metadata": {
        "colab": {
          "base_uri": "https://localhost:8080/"
        },
        "id": "fT4yOqybYAwJ",
        "outputId": "824bd3ac-44e7-477b-f4d4-9af973b6e5de"
      },
      "execution_count": 13,
      "outputs": [
        {
          "output_type": "stream",
          "name": "stdout",
          "text": [
            "<class 'Exception'>\n"
          ]
        },
        {
          "output_type": "execute_result",
          "data": {
            "text/plain": [
              "6.0"
            ]
          },
          "metadata": {},
          "execution_count": 13
        }
      ]
    },
    {
      "cell_type": "code",
      "source": [
        "interpreter = Interpreter();\n",
        "\n",
        "interpreter.input('x = 0')\n",
        "interpreter.input('fn f => 1')"
      ],
      "metadata": {
        "colab": {
          "base_uri": "https://localhost:8080/",
          "height": 35
        },
        "id": "ZC7r4VA7eeU6",
        "outputId": "534fe33b-ff18-4487-e11f-201002708732"
      },
      "execution_count": 14,
      "outputs": [
        {
          "output_type": "execute_result",
          "data": {
            "text/plain": [
              "''"
            ],
            "application/vnd.google.colaboratory.intrinsic+json": {
              "type": "string"
            }
          },
          "metadata": {},
          "execution_count": 14
        }
      ]
    },
    {
      "cell_type": "code",
      "source": [
        "interpreter.input(\"fn x => 0\")"
      ],
      "metadata": {
        "colab": {
          "base_uri": "https://localhost:8080/",
          "height": 288
        },
        "id": "IqwOnScyiU2F",
        "outputId": "4a7fe0af-d413-45a4-e291-533911284195"
      },
      "execution_count": 15,
      "outputs": [
        {
          "output_type": "error",
          "ename": "Exception",
          "evalue": "ignored",
          "traceback": [
            "\u001b[0;31m---------------------------------------------------------------------------\u001b[0m",
            "\u001b[0;31mException\u001b[0m                                 Traceback (most recent call last)",
            "\u001b[0;32m<ipython-input-15-9289b233e25e>\u001b[0m in \u001b[0;36m<module>\u001b[0;34m\u001b[0m\n\u001b[0;32m----> 1\u001b[0;31m \u001b[0minterpreter\u001b[0m\u001b[0;34m.\u001b[0m\u001b[0minput\u001b[0m\u001b[0;34m(\u001b[0m\u001b[0;34m\"fn x => 0\"\u001b[0m\u001b[0;34m)\u001b[0m\u001b[0;34m\u001b[0m\u001b[0;34m\u001b[0m\u001b[0m\n\u001b[0m",
            "\u001b[0;32m<ipython-input-12-43768a582eb3>\u001b[0m in \u001b[0;36minput\u001b[0;34m(self, expression)\u001b[0m\n\u001b[1;32m     22\u001b[0m           \u001b[0minter\u001b[0m \u001b[0;34m=\u001b[0m \u001b[0mset\u001b[0m\u001b[0;34m(\u001b[0m\u001b[0mself\u001b[0m\u001b[0;34m.\u001b[0m\u001b[0mvars\u001b[0m\u001b[0;34m)\u001b[0m \u001b[0;34m&\u001b[0m \u001b[0mset\u001b[0m\u001b[0;34m(\u001b[0m\u001b[0mself\u001b[0m\u001b[0;34m.\u001b[0m\u001b[0mfunctions\u001b[0m \u001b[0;34m|\u001b[0m \u001b[0;34m{\u001b[0m\u001b[0mast\u001b[0m\u001b[0;34m.\u001b[0m\u001b[0mfname\u001b[0m\u001b[0;34m.\u001b[0m\u001b[0mtext\u001b[0m\u001b[0;34m:\u001b[0m \u001b[0mast\u001b[0m\u001b[0;34m}\u001b[0m\u001b[0;34m)\u001b[0m\u001b[0;34m\u001b[0m\u001b[0;34m\u001b[0m\u001b[0m\n\u001b[1;32m     23\u001b[0m           \u001b[0;32mif\u001b[0m \u001b[0minter\u001b[0m\u001b[0;34m:\u001b[0m\u001b[0;34m\u001b[0m\u001b[0;34m\u001b[0m\u001b[0m\n\u001b[0;32m---> 24\u001b[0;31m             \u001b[0;32mraise\u001b[0m \u001b[0mException\u001b[0m\u001b[0;34m(\u001b[0m\u001b[0;34mf'Defined twice: {inter}'\u001b[0m\u001b[0;34m)\u001b[0m\u001b[0;34m\u001b[0m\u001b[0;34m\u001b[0m\u001b[0m\n\u001b[0m\u001b[1;32m     25\u001b[0m           \u001b[0mself\u001b[0m\u001b[0;34m.\u001b[0m\u001b[0mfunctions\u001b[0m\u001b[0;34m[\u001b[0m\u001b[0mast\u001b[0m\u001b[0;34m.\u001b[0m\u001b[0mfname\u001b[0m\u001b[0;34m.\u001b[0m\u001b[0mtext\u001b[0m\u001b[0;34m]\u001b[0m \u001b[0;34m=\u001b[0m \u001b[0mast\u001b[0m\u001b[0;34m\u001b[0m\u001b[0;34m\u001b[0m\u001b[0m\n\u001b[1;32m     26\u001b[0m           \u001b[0;32mreturn\u001b[0m \u001b[0;34m\"\"\u001b[0m\u001b[0;34m\u001b[0m\u001b[0;34m\u001b[0m\u001b[0m\n",
            "\u001b[0;31mException\u001b[0m: Defined twice: {'x'}"
          ]
        }
      ]
    },
    {
      "cell_type": "code",
      "source": [
        "interpreter.input(\"f = 5\")"
      ],
      "metadata": {
        "colab": {
          "base_uri": "https://localhost:8080/",
          "height": 288
        },
        "id": "R9Mdr9ZFiVuD",
        "outputId": "5cb71e28-c563-4e8f-97be-1beb4925bb1c"
      },
      "execution_count": 16,
      "outputs": [
        {
          "output_type": "error",
          "ename": "Exception",
          "evalue": "ignored",
          "traceback": [
            "\u001b[0;31m---------------------------------------------------------------------------\u001b[0m",
            "\u001b[0;31mException\u001b[0m                                 Traceback (most recent call last)",
            "\u001b[0;32m<ipython-input-16-79a1c86107bd>\u001b[0m in \u001b[0;36m<module>\u001b[0;34m\u001b[0m\n\u001b[0;32m----> 1\u001b[0;31m \u001b[0minterpreter\u001b[0m\u001b[0;34m.\u001b[0m\u001b[0minput\u001b[0m\u001b[0;34m(\u001b[0m\u001b[0;34m\"f = 5\"\u001b[0m\u001b[0;34m)\u001b[0m\u001b[0;34m\u001b[0m\u001b[0;34m\u001b[0m\u001b[0m\n\u001b[0m",
            "\u001b[0;32m<ipython-input-12-43768a582eb3>\u001b[0m in \u001b[0;36minput\u001b[0;34m(self, expression)\u001b[0m\n\u001b[1;32m     32\u001b[0m         \u001b[0;32mif\u001b[0m \u001b[0minter\u001b[0m\u001b[0;34m:\u001b[0m\u001b[0;34m\u001b[0m\u001b[0;34m\u001b[0m\u001b[0m\n\u001b[1;32m     33\u001b[0m           \u001b[0mself\u001b[0m\u001b[0;34m.\u001b[0m\u001b[0mvars\u001b[0m \u001b[0;34m=\u001b[0m \u001b[0mprevious_state\u001b[0m\u001b[0;34m\u001b[0m\u001b[0;34m\u001b[0m\u001b[0m\n\u001b[0;32m---> 34\u001b[0;31m           \u001b[0;32mraise\u001b[0m \u001b[0mException\u001b[0m\u001b[0;34m(\u001b[0m\u001b[0;34mf'Defined twice: {inter}'\u001b[0m\u001b[0;34m)\u001b[0m\u001b[0;34m\u001b[0m\u001b[0;34m\u001b[0m\u001b[0m\n\u001b[0m\u001b[1;32m     35\u001b[0m \u001b[0;34m\u001b[0m\u001b[0m\n\u001b[1;32m     36\u001b[0m         \u001b[0;32mreturn\u001b[0m \u001b[0mres\u001b[0m\u001b[0;34m\u001b[0m\u001b[0;34m\u001b[0m\u001b[0m\n",
            "\u001b[0;31mException\u001b[0m: Defined twice: {'f'}"
          ]
        }
      ]
    },
    {
      "cell_type": "code",
      "source": [
        "interpreter.input('f')"
      ],
      "metadata": {
        "colab": {
          "base_uri": "https://localhost:8080/"
        },
        "id": "n-6zPffniRMF",
        "outputId": "c09d1886-cc9d-4c13-9258-52a8fd8cb9a9"
      },
      "execution_count": 17,
      "outputs": [
        {
          "output_type": "execute_result",
          "data": {
            "text/plain": [
              "1"
            ]
          },
          "metadata": {},
          "execution_count": 17
        }
      ]
    }
  ]
}